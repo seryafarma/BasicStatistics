{
 "cells": [
  {
   "cell_type": "code",
   "execution_count": 1,
   "metadata": {},
   "outputs": [
    {
     "name": "stdout",
     "output_type": "stream",
     "text": [
      "package 'ggplot2' successfully unpacked and MD5 sums checked\n"
     ]
    },
    {
     "name": "stderr",
     "output_type": "stream",
     "text": [
      "Warning message:\n",
      "\"cannot remove prior installation of package 'ggplot2'\"Warning message:\n",
      "\"restored 'ggplot2'\""
     ]
    },
    {
     "name": "stdout",
     "output_type": "stream",
     "text": [
      "\n",
      "The downloaded binary packages are in\n",
      "\tC:\\Users\\Enhope\\AppData\\Local\\Temp\\Rtmpawl4ni\\downloaded_packages\n",
      "package 'Rmisc' successfully unpacked and MD5 sums checked\n",
      "\n",
      "The downloaded binary packages are in\n",
      "\tC:\\Users\\Enhope\\AppData\\Local\\Temp\\Rtmpawl4ni\\downloaded_packages\n"
     ]
    }
   ],
   "source": [
    "install.packages('ggplot2')\n",
    "install.packages('Rmisc')"
   ]
  },
  {
   "cell_type": "code",
   "execution_count": 2,
   "metadata": {},
   "outputs": [
    {
     "name": "stderr",
     "output_type": "stream",
     "text": [
      "Registered S3 methods overwritten by 'ggplot2':\n",
      "  method         from \n",
      "  [.quosures     rlang\n",
      "  c.quosures     rlang\n",
      "  print.quosures rlang\n",
      "Warning message:\n",
      "\"package 'Rmisc' was built under R version 3.6.3\"Loading required package: lattice\n",
      "Loading required package: plyr\n"
     ]
    }
   ],
   "source": [
    "library('ggplot2')\n",
    "library('Rmisc')"
   ]
  },
  {
   "cell_type": "code",
   "execution_count": 3,
   "metadata": {},
   "outputs": [],
   "source": [
    "inkomen <- read.csv('inkomen.csv')"
   ]
  },
  {
   "cell_type": "markdown",
   "metadata": {},
   "source": [
    "Data was taken from https://opendata.cbs.nl/statline/#/CBS/nl/dataset/83931NED/table?dl=D4D1,\n",
    "with some edits to make it very easy for a very basic bar plot.\n",
    "\n",
    "Note: The data here is 'classified' thus in this notebook we can easily make this into bar plot instead of histogram.\n",
    "For histogram we need an analog continuous data which is shown in one column for example."
   ]
  },
  {
   "cell_type": "code",
   "execution_count": 4,
   "metadata": {},
   "outputs": [
    {
     "data": {
      "text/html": [
       "<table>\n",
       "<thead><tr><th scope=col>Inkomensklassen</th><th scope=col>Personen.met.inkomen</th><th scope=col>Gemiddeld.inkomen</th><th scope=col>Mediaan.inkomen</th></tr></thead>\n",
       "<tbody>\n",
       "\t<tr><td> 10000 </td><td>2021500</td><td>  4100 </td><td>  3900 </td></tr>\n",
       "\t<tr><td> 20000 </td><td>3394700</td><td> 14700 </td><td> 15100 </td></tr>\n",
       "\t<tr><td> 30000 </td><td>2448900</td><td> 24800 </td><td> 24700 </td></tr>\n",
       "\t<tr><td> 40000 </td><td>1962900</td><td> 34800 </td><td> 34700 </td></tr>\n",
       "\t<tr><td> 50000 </td><td>1367300</td><td> 44600 </td><td> 44400 </td></tr>\n",
       "\t<tr><td>100000 </td><td>1985400</td><td> 65900 </td><td> 62700 </td></tr>\n",
       "\t<tr><td>200000 </td><td> 310300</td><td>129500 </td><td>122100 </td></tr>\n",
       "</tbody>\n",
       "</table>\n"
      ],
      "text/latex": [
       "\\begin{tabular}{r|llll}\n",
       " Inkomensklassen & Personen.met.inkomen & Gemiddeld.inkomen & Mediaan.inkomen\\\\\n",
       "\\hline\n",
       "\t  10000  & 2021500 &   4100  &   3900 \\\\\n",
       "\t  20000  & 3394700 &  14700  &  15100 \\\\\n",
       "\t  30000  & 2448900 &  24800  &  24700 \\\\\n",
       "\t  40000  & 1962900 &  34800  &  34700 \\\\\n",
       "\t  50000  & 1367300 &  44600  &  44400 \\\\\n",
       "\t 100000  & 1985400 &  65900  &  62700 \\\\\n",
       "\t 200000  &  310300 & 129500  & 122100 \\\\\n",
       "\\end{tabular}\n"
      ],
      "text/markdown": [
       "\n",
       "| Inkomensklassen | Personen.met.inkomen | Gemiddeld.inkomen | Mediaan.inkomen |\n",
       "|---|---|---|---|\n",
       "|  10000  | 2021500 |   4100  |   3900  |\n",
       "|  20000  | 3394700 |  14700  |  15100  |\n",
       "|  30000  | 2448900 |  24800  |  24700  |\n",
       "|  40000  | 1962900 |  34800  |  34700  |\n",
       "|  50000  | 1367300 |  44600  |  44400  |\n",
       "| 100000  | 1985400 |  65900  |  62700  |\n",
       "| 200000  |  310300 | 129500  | 122100  |\n",
       "\n"
      ],
      "text/plain": [
       "  Inkomensklassen Personen.met.inkomen Gemiddeld.inkomen Mediaan.inkomen\n",
       "1  10000          2021500                4100              3900         \n",
       "2  20000          3394700               14700             15100         \n",
       "3  30000          2448900               24800             24700         \n",
       "4  40000          1962900               34800             34700         \n",
       "5  50000          1367300               44600             44400         \n",
       "6 100000          1985400               65900             62700         \n",
       "7 200000           310300              129500            122100         "
      ]
     },
     "metadata": {},
     "output_type": "display_data"
    }
   ],
   "source": [
    "inkomen"
   ]
  },
  {
   "cell_type": "code",
   "execution_count": 5,
   "metadata": {},
   "outputs": [
    {
     "data": {
      "text/html": [
       "<table>\n",
       "<thead><tr><th scope=col>Inkomensklassen</th><th scope=col>Personen.met.inkomen</th><th scope=col>Gemiddeld.inkomen</th><th scope=col>Mediaan.inkomen</th></tr></thead>\n",
       "<tbody>\n",
       "\t<tr><td>10000  </td><td>2021500</td><td> 4100  </td><td> 3900  </td></tr>\n",
       "\t<tr><td>20000  </td><td>3394700</td><td>14700  </td><td>15100  </td></tr>\n",
       "\t<tr><td>30000  </td><td>2448900</td><td>24800  </td><td>24700  </td></tr>\n",
       "\t<tr><td>40000  </td><td>1962900</td><td>34800  </td><td>34700  </td></tr>\n",
       "\t<tr><td>50000  </td><td>1367300</td><td>44600  </td><td>44400  </td></tr>\n",
       "</tbody>\n",
       "</table>\n"
      ],
      "text/latex": [
       "\\begin{tabular}{r|llll}\n",
       " Inkomensklassen & Personen.met.inkomen & Gemiddeld.inkomen & Mediaan.inkomen\\\\\n",
       "\\hline\n",
       "\t 10000   & 2021500 &  4100   &  3900  \\\\\n",
       "\t 20000   & 3394700 & 14700   & 15100  \\\\\n",
       "\t 30000   & 2448900 & 24800   & 24700  \\\\\n",
       "\t 40000   & 1962900 & 34800   & 34700  \\\\\n",
       "\t 50000   & 1367300 & 44600   & 44400  \\\\\n",
       "\\end{tabular}\n"
      ],
      "text/markdown": [
       "\n",
       "| Inkomensklassen | Personen.met.inkomen | Gemiddeld.inkomen | Mediaan.inkomen |\n",
       "|---|---|---|---|\n",
       "| 10000   | 2021500 |  4100   |  3900   |\n",
       "| 20000   | 3394700 | 14700   | 15100   |\n",
       "| 30000   | 2448900 | 24800   | 24700   |\n",
       "| 40000   | 1962900 | 34800   | 34700   |\n",
       "| 50000   | 1367300 | 44600   | 44400   |\n",
       "\n"
      ],
      "text/plain": [
       "  Inkomensklassen Personen.met.inkomen Gemiddeld.inkomen Mediaan.inkomen\n",
       "1 10000           2021500               4100              3900          \n",
       "2 20000           3394700              14700             15100          \n",
       "3 30000           2448900              24800             24700          \n",
       "4 40000           1962900              34800             34700          \n",
       "5 50000           1367300              44600             44400          "
      ]
     },
     "metadata": {},
     "output_type": "display_data"
    }
   ],
   "source": [
    "# Remove the last two columns because the distant is too far\n",
    "inkomen <- inkomen[-c(6, 7), ]\n",
    "inkomen"
   ]
  },
  {
   "cell_type": "code",
   "execution_count": 6,
   "metadata": {},
   "outputs": [
    {
     "data": {
      "image/png": "[encoded data removed]",
      "text/plain": [
       "plot without title"
      ]
     },
     "metadata": {},
     "output_type": "display_data"
    }
   ],
   "source": [
    "ggplot(aes(x = Inkomensklassen, y = Personen.met.inkomen), data = inkomen) + \n",
    "    geom_bar(stat=\"identity\", fill=\"steelblue\") +\n",
    "    ggtitle('Incomes in the Netherlands 2018 (up to 50000 euro)') +\n",
    "    scale_y_continuous(labels = function(x) format(x, scientific = FALSE)) + \n",
    "    labs(x = \"Income Classes (Maximum Salary)\", y = \"Number of people\")"
   ]
  }
 ],
 "metadata": {
  "kernelspec": {
   "display_name": "R",
   "language": "R",
   "name": "ir"
  },
  "language_info": {
   "codemirror_mode": "r",
   "file_extension": ".r",
   "mimetype": "text/x-r-source",
   "name": "R",
   "pygments_lexer": "r",
   "version": "3.6.1"
  }
 },
 "nbformat": 4,
 "nbformat_minor": 4
}
