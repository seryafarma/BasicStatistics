{
 "cells": [
  {
   "cell_type": "markdown",
   "metadata": {},
   "source": [
    "The data is taken from http://roycekimmons.com/tools/generated_data/exams and this shows a basic histogram usage in R."
   ]
  },
  {
   "cell_type": "code",
   "execution_count": 2,
   "metadata": {},
   "outputs": [
    {
     "name": "stdout",
     "output_type": "stream",
     "text": [
      "package 'ggplot2' successfully unpacked and MD5 sums checked\n"
     ]
    },
    {
     "name": "stderr",
     "output_type": "stream",
     "text": [
      "Warning message:\n",
      "\"cannot remove prior installation of package 'ggplot2'\"Warning message:\n",
      "\"restored 'ggplot2'\""
     ]
    },
    {
     "name": "stdout",
     "output_type": "stream",
     "text": [
      "\n",
      "The downloaded binary packages are in\n",
      "\tC:\\Users\\Enhope\\AppData\\Local\\Temp\\RtmpIHHU2S\\downloaded_packages\n",
      "package 'Rmisc' successfully unpacked and MD5 sums checked\n",
      "\n",
      "The downloaded binary packages are in\n",
      "\tC:\\Users\\Enhope\\AppData\\Local\\Temp\\RtmpIHHU2S\\downloaded_packages\n"
     ]
    }
   ],
   "source": [
    "install.packages('ggplot2')\n",
    "install.packages('Rmisc')\n"
   ]
  },
  {
   "cell_type": "code",
   "execution_count": 3,
   "metadata": {},
   "outputs": [
    {
     "name": "stderr",
     "output_type": "stream",
     "text": [
      "Registered S3 methods overwritten by 'ggplot2':\n",
      "  method         from \n",
      "  [.quosures     rlang\n",
      "  c.quosures     rlang\n",
      "  print.quosures rlang\n",
      "Warning message:\n",
      "\"package 'Rmisc' was built under R version 3.6.3\"Loading required package: lattice\n",
      "Loading required package: plyr\n"
     ]
    }
   ],
   "source": [
    "library('ggplot2')\n",
    "library('Rmisc')"
   ]
  },
  {
   "cell_type": "code",
   "execution_count": 4,
   "metadata": {},
   "outputs": [],
   "source": [
    "exam <- read.csv('exams.csv')"
   ]
  },
  {
   "cell_type": "code",
   "execution_count": 5,
   "metadata": {},
   "outputs": [
    {
     "data": {
      "text/html": [
       "<table>\n",
       "<thead><tr><th scope=col>gender</th><th scope=col>race.ethnicity</th><th scope=col>parental.level.of.education</th><th scope=col>lunch</th><th scope=col>test.preparation.course</th><th scope=col>math.score</th><th scope=col>reading.score</th><th scope=col>writing.score</th></tr></thead>\n",
       "<tbody>\n",
       "\t<tr><td>male              </td><td>group E           </td><td>some college      </td><td>standard          </td><td>completed         </td><td>100               </td><td>100               </td><td>98                </td></tr>\n",
       "\t<tr><td>female            </td><td>group C           </td><td>high school       </td><td>standard          </td><td>none              </td><td> 44               </td><td> 54               </td><td>56                </td></tr>\n",
       "\t<tr><td>female            </td><td>group B           </td><td>some college      </td><td>free/reduced      </td><td>none              </td><td> 54               </td><td> 64               </td><td>65                </td></tr>\n",
       "\t<tr><td>male              </td><td>group C           </td><td>high school       </td><td>standard          </td><td>none              </td><td> 65               </td><td> 53               </td><td>55                </td></tr>\n",
       "\t<tr><td>male              </td><td>group D           </td><td>high school       </td><td>standard          </td><td>none              </td><td> 64               </td><td> 62               </td><td>56                </td></tr>\n",
       "\t<tr><td>female            </td><td>group D           </td><td>some college      </td><td>free/reduced      </td><td>completed         </td><td> 28               </td><td> 53               </td><td>53                </td></tr>\n",
       "\t<tr><td>male              </td><td>group C           </td><td>master's degree   </td><td>free/reduced      </td><td>none              </td><td> 94               </td><td> 84               </td><td>82                </td></tr>\n",
       "\t<tr><td>female            </td><td>group B           </td><td>some high school  </td><td>standard          </td><td>completed         </td><td> 54               </td><td> 57               </td><td>64                </td></tr>\n",
       "\t<tr><td>male              </td><td>group C           </td><td>high school       </td><td>standard          </td><td>completed         </td><td> 60               </td><td> 57               </td><td>55                </td></tr>\n",
       "\t<tr><td>male              </td><td>group A           </td><td>some college      </td><td>standard          </td><td>none              </td><td> 62               </td><td> 60               </td><td>53                </td></tr>\n",
       "\t<tr><td>female            </td><td>group A           </td><td>bachelor's degree </td><td>standard          </td><td>none              </td><td> 77               </td><td> 93               </td><td>83                </td></tr>\n",
       "\t<tr><td>female            </td><td>group C           </td><td>some college      </td><td>free/reduced      </td><td>completed         </td><td> 64               </td><td> 68               </td><td>67                </td></tr>\n",
       "\t<tr><td>female            </td><td>group E           </td><td>some high school  </td><td>standard          </td><td>completed         </td><td> 67               </td><td> 68               </td><td>68                </td></tr>\n",
       "\t<tr><td>male              </td><td>group D           </td><td>some college      </td><td>free/reduced      </td><td>none              </td><td> 74               </td><td> 76               </td><td>71                </td></tr>\n",
       "\t<tr><td>female            </td><td>group D           </td><td>high school       </td><td>free/reduced      </td><td>completed         </td><td> 73               </td><td> 72               </td><td>74                </td></tr>\n",
       "\t<tr><td>female            </td><td>group D           </td><td>some college      </td><td>standard          </td><td>completed         </td><td> 76               </td><td> 96               </td><td>94                </td></tr>\n",
       "\t<tr><td>male              </td><td>group C           </td><td>some college      </td><td>standard          </td><td>completed         </td><td> 69               </td><td> 68               </td><td>72                </td></tr>\n",
       "\t<tr><td>male              </td><td>group C           </td><td>master's degree   </td><td>free/reduced      </td><td>completed         </td><td> 70               </td><td> 65               </td><td>62                </td></tr>\n",
       "\t<tr><td>female            </td><td>group D           </td><td>some college      </td><td>standard          </td><td>none              </td><td> 76               </td><td> 78               </td><td>79                </td></tr>\n",
       "\t<tr><td>male              </td><td>group A           </td><td>associate's degree</td><td>standard          </td><td>none              </td><td> 97               </td><td> 94               </td><td>87                </td></tr>\n",
       "\t<tr><td>male              </td><td>group D           </td><td>associate's degree</td><td>standard          </td><td>completed         </td><td> 77               </td><td> 81               </td><td>81                </td></tr>\n",
       "\t<tr><td>female            </td><td>group C           </td><td>some college      </td><td>standard          </td><td>none              </td><td> 76               </td><td> 88               </td><td>85                </td></tr>\n",
       "\t<tr><td>female            </td><td>group C           </td><td>some high school  </td><td>free/reduced      </td><td>completed         </td><td> 64               </td><td> 75               </td><td>80                </td></tr>\n",
       "\t<tr><td>male              </td><td>group C           </td><td>bachelor's degree </td><td>free/reduced      </td><td>none              </td><td> 71               </td><td> 78               </td><td>72                </td></tr>\n",
       "\t<tr><td>female            </td><td>group D           </td><td>some college      </td><td>free/reduced      </td><td>completed         </td><td> 76               </td><td> 84               </td><td>89                </td></tr>\n",
       "\t<tr><td>female            </td><td>group C           </td><td>high school       </td><td>standard          </td><td>none              </td><td> 72               </td><td> 81               </td><td>74                </td></tr>\n",
       "\t<tr><td>male              </td><td>group C           </td><td>some college      </td><td>standard          </td><td>completed         </td><td> 73               </td><td> 68               </td><td>70                </td></tr>\n",
       "\t<tr><td>female            </td><td>group B           </td><td>high school       </td><td>free/reduced      </td><td>none              </td><td> 41               </td><td> 54               </td><td>49                </td></tr>\n",
       "\t<tr><td>male              </td><td>group C           </td><td>master's degree   </td><td>standard          </td><td>none              </td><td> 79               </td><td> 64               </td><td>65                </td></tr>\n",
       "\t<tr><td>male              </td><td>group B           </td><td>some college      </td><td>standard          </td><td>completed         </td><td> 93               </td><td> 80               </td><td>84                </td></tr>\n",
       "\t<tr><td>...</td><td>...</td><td>...</td><td>...</td><td>...</td><td>...</td><td>...</td><td>...</td></tr>\n",
       "\t<tr><td>female            </td><td>group C           </td><td>some college      </td><td>free/reduced      </td><td>none              </td><td> 44               </td><td>60                </td><td>51                </td></tr>\n",
       "\t<tr><td>male              </td><td>group D           </td><td>master's degree   </td><td>standard          </td><td>none              </td><td>100               </td><td>96                </td><td>89                </td></tr>\n",
       "\t<tr><td>male              </td><td>group C           </td><td>high school       </td><td>standard          </td><td>none              </td><td> 70               </td><td>67                </td><td>65                </td></tr>\n",
       "\t<tr><td>female            </td><td>group D           </td><td>some college      </td><td>standard          </td><td>none              </td><td> 71               </td><td>71                </td><td>68                </td></tr>\n",
       "\t<tr><td>female            </td><td>group D           </td><td>high school       </td><td>free/reduced      </td><td>none              </td><td> 80               </td><td>82                </td><td>82                </td></tr>\n",
       "\t<tr><td>male              </td><td>group D           </td><td>high school       </td><td>free/reduced      </td><td>none              </td><td> 37               </td><td>43                </td><td>37                </td></tr>\n",
       "\t<tr><td>male              </td><td>group B           </td><td>some college      </td><td>standard          </td><td>completed         </td><td> 57               </td><td>58                </td><td>58                </td></tr>\n",
       "\t<tr><td>male              </td><td>group C           </td><td>associate's degree</td><td>free/reduced      </td><td>completed         </td><td> 47               </td><td>51                </td><td>49                </td></tr>\n",
       "\t<tr><td>male              </td><td>group B           </td><td>associate's degree</td><td>standard          </td><td>none              </td><td> 85               </td><td>77                </td><td>74                </td></tr>\n",
       "\t<tr><td>male              </td><td>group D           </td><td>some college      </td><td>free/reduced      </td><td>none              </td><td> 43               </td><td>55                </td><td>49                </td></tr>\n",
       "\t<tr><td>female            </td><td>group C           </td><td>some college      </td><td>standard          </td><td>none              </td><td> 37               </td><td>53                </td><td>55                </td></tr>\n",
       "\t<tr><td>female            </td><td>group C           </td><td>bachelor's degree </td><td>free/reduced      </td><td>none              </td><td> 33               </td><td>44                </td><td>45                </td></tr>\n",
       "\t<tr><td>female            </td><td>group C           </td><td>bachelor's degree </td><td>standard          </td><td>none              </td><td> 68               </td><td>75                </td><td>78                </td></tr>\n",
       "\t<tr><td>female            </td><td>group C           </td><td>some high school  </td><td>standard          </td><td>none              </td><td> 45               </td><td>66                </td><td>57                </td></tr>\n",
       "\t<tr><td>male              </td><td>group D           </td><td>high school       </td><td>standard          </td><td>none              </td><td> 75               </td><td>61                </td><td>57                </td></tr>\n",
       "\t<tr><td>male              </td><td>group C           </td><td>master's degree   </td><td>free/reduced      </td><td>none              </td><td> 64               </td><td>52                </td><td>62                </td></tr>\n",
       "\t<tr><td>male              </td><td>group B           </td><td>master's degree   </td><td>standard          </td><td>completed         </td><td> 81               </td><td>81                </td><td>82                </td></tr>\n",
       "\t<tr><td>male              </td><td>group D           </td><td>associate's degree</td><td>free/reduced      </td><td>none              </td><td> 68               </td><td>69                </td><td>68                </td></tr>\n",
       "\t<tr><td>male              </td><td>group C           </td><td>some high school  </td><td>standard          </td><td>completed         </td><td> 90               </td><td>88                </td><td>83                </td></tr>\n",
       "\t<tr><td>male              </td><td>group D           </td><td>bachelor's degree </td><td>standard          </td><td>none              </td><td> 65               </td><td>60                </td><td>59                </td></tr>\n",
       "\t<tr><td>male              </td><td>group B           </td><td>some college      </td><td>standard          </td><td>completed         </td><td> 75               </td><td>74                </td><td>75                </td></tr>\n",
       "\t<tr><td>female            </td><td>group C           </td><td>associate's degree</td><td>free/reduced      </td><td>none              </td><td> 82               </td><td>89                </td><td>87                </td></tr>\n",
       "\t<tr><td>male              </td><td>group B           </td><td>some high school  </td><td>free/reduced      </td><td>completed         </td><td> 67               </td><td>65                </td><td>61                </td></tr>\n",
       "\t<tr><td>male              </td><td>group D           </td><td>high school       </td><td>standard          </td><td>none              </td><td> 45               </td><td>33                </td><td>34                </td></tr>\n",
       "\t<tr><td>female            </td><td>group C           </td><td>some college      </td><td>free/reduced      </td><td>none              </td><td> 28               </td><td>35                </td><td>37                </td></tr>\n",
       "\t<tr><td>female            </td><td>group C           </td><td>master's degree   </td><td>free/reduced      </td><td>none              </td><td> 57               </td><td>74                </td><td>75                </td></tr>\n",
       "\t<tr><td>male              </td><td>group C           </td><td>associate's degree</td><td>standard          </td><td>none              </td><td> 78               </td><td>73                </td><td>64                </td></tr>\n",
       "\t<tr><td>male              </td><td>group D           </td><td>high school       </td><td>standard          </td><td>completed         </td><td> 46               </td><td>53                </td><td>48                </td></tr>\n",
       "\t<tr><td>female            </td><td>group C           </td><td>some college      </td><td>standard          </td><td>completed         </td><td> 64               </td><td>69                </td><td>77                </td></tr>\n",
       "\t<tr><td>female            </td><td>group A           </td><td>some college      </td><td>standard          </td><td>none              </td><td> 70               </td><td>84                </td><td>84                </td></tr>\n",
       "</tbody>\n",
       "</table>\n"
      ],
      "text/latex": [
       "\\begin{tabular}{r|llllllll}\n",
       " gender & race.ethnicity & parental.level.of.education & lunch & test.preparation.course & math.score & reading.score & writing.score\\\\\n",
       "\\hline\n",
       "\t male               & group E            & some college       & standard           & completed          & 100                & 100                & 98                \\\\\n",
       "\t female             & group C            & high school        & standard           & none               &  44                &  54                & 56                \\\\\n",
       "\t female             & group B            & some college       & free/reduced       & none               &  54                &  64                & 65                \\\\\n",
       "\t male               & group C            & high school        & standard           & none               &  65                &  53                & 55                \\\\\n",
       "\t male               & group D            & high school        & standard           & none               &  64                &  62                & 56                \\\\\n",
       "\t female             & group D            & some college       & free/reduced       & completed          &  28                &  53                & 53                \\\\\n",
       "\t male               & group C            & master's degree    & free/reduced       & none               &  94                &  84                & 82                \\\\\n",
       "\t female             & group B            & some high school   & standard           & completed          &  54                &  57                & 64                \\\\\n",
       "\t male               & group C            & high school        & standard           & completed          &  60                &  57                & 55                \\\\\n",
       "\t male               & group A            & some college       & standard           & none               &  62                &  60                & 53                \\\\\n",
       "\t female             & group A            & bachelor's degree  & standard           & none               &  77                &  93                & 83                \\\\\n",
       "\t female             & group C            & some college       & free/reduced       & completed          &  64                &  68                & 67                \\\\\n",
       "\t female             & group E            & some high school   & standard           & completed          &  67                &  68                & 68                \\\\\n",
       "\t male               & group D            & some college       & free/reduced       & none               &  74                &  76                & 71                \\\\\n",
       "\t female             & group D            & high school        & free/reduced       & completed          &  73                &  72                & 74                \\\\\n",
       "\t female             & group D            & some college       & standard           & completed          &  76                &  96                & 94                \\\\\n",
       "\t male               & group C            & some college       & standard           & completed          &  69                &  68                & 72                \\\\\n",
       "\t male               & group C            & master's degree    & free/reduced       & completed          &  70                &  65                & 62                \\\\\n",
       "\t female             & group D            & some college       & standard           & none               &  76                &  78                & 79                \\\\\n",
       "\t male               & group A            & associate's degree & standard           & none               &  97                &  94                & 87                \\\\\n",
       "\t male               & group D            & associate's degree & standard           & completed          &  77                &  81                & 81                \\\\\n",
       "\t female             & group C            & some college       & standard           & none               &  76                &  88                & 85                \\\\\n",
       "\t female             & group C            & some high school   & free/reduced       & completed          &  64                &  75                & 80                \\\\\n",
       "\t male               & group C            & bachelor's degree  & free/reduced       & none               &  71                &  78                & 72                \\\\\n",
       "\t female             & group D            & some college       & free/reduced       & completed          &  76                &  84                & 89                \\\\\n",
       "\t female             & group C            & high school        & standard           & none               &  72                &  81                & 74                \\\\\n",
       "\t male               & group C            & some college       & standard           & completed          &  73                &  68                & 70                \\\\\n",
       "\t female             & group B            & high school        & free/reduced       & none               &  41                &  54                & 49                \\\\\n",
       "\t male               & group C            & master's degree    & standard           & none               &  79                &  64                & 65                \\\\\n",
       "\t male               & group B            & some college       & standard           & completed          &  93                &  80                & 84                \\\\\n",
       "\t ... & ... & ... & ... & ... & ... & ... & ...\\\\\n",
       "\t female             & group C            & some college       & free/reduced       & none               &  44                & 60                 & 51                \\\\\n",
       "\t male               & group D            & master's degree    & standard           & none               & 100                & 96                 & 89                \\\\\n",
       "\t male               & group C            & high school        & standard           & none               &  70                & 67                 & 65                \\\\\n",
       "\t female             & group D            & some college       & standard           & none               &  71                & 71                 & 68                \\\\\n",
       "\t female             & group D            & high school        & free/reduced       & none               &  80                & 82                 & 82                \\\\\n",
       "\t male               & group D            & high school        & free/reduced       & none               &  37                & 43                 & 37                \\\\\n",
       "\t male               & group B            & some college       & standard           & completed          &  57                & 58                 & 58                \\\\\n",
       "\t male               & group C            & associate's degree & free/reduced       & completed          &  47                & 51                 & 49                \\\\\n",
       "\t male               & group B            & associate's degree & standard           & none               &  85                & 77                 & 74                \\\\\n",
       "\t male               & group D            & some college       & free/reduced       & none               &  43                & 55                 & 49                \\\\\n",
       "\t female             & group C            & some college       & standard           & none               &  37                & 53                 & 55                \\\\\n",
       "\t female             & group C            & bachelor's degree  & free/reduced       & none               &  33                & 44                 & 45                \\\\\n",
       "\t female             & group C            & bachelor's degree  & standard           & none               &  68                & 75                 & 78                \\\\\n",
       "\t female             & group C            & some high school   & standard           & none               &  45                & 66                 & 57                \\\\\n",
       "\t male               & group D            & high school        & standard           & none               &  75                & 61                 & 57                \\\\\n",
       "\t male               & group C            & master's degree    & free/reduced       & none               &  64                & 52                 & 62                \\\\\n",
       "\t male               & group B            & master's degree    & standard           & completed          &  81                & 81                 & 82                \\\\\n",
       "\t male               & group D            & associate's degree & free/reduced       & none               &  68                & 69                 & 68                \\\\\n",
       "\t male               & group C            & some high school   & standard           & completed          &  90                & 88                 & 83                \\\\\n",
       "\t male               & group D            & bachelor's degree  & standard           & none               &  65                & 60                 & 59                \\\\\n",
       "\t male               & group B            & some college       & standard           & completed          &  75                & 74                 & 75                \\\\\n",
       "\t female             & group C            & associate's degree & free/reduced       & none               &  82                & 89                 & 87                \\\\\n",
       "\t male               & group B            & some high school   & free/reduced       & completed          &  67                & 65                 & 61                \\\\\n",
       "\t male               & group D            & high school        & standard           & none               &  45                & 33                 & 34                \\\\\n",
       "\t female             & group C            & some college       & free/reduced       & none               &  28                & 35                 & 37                \\\\\n",
       "\t female             & group C            & master's degree    & free/reduced       & none               &  57                & 74                 & 75                \\\\\n",
       "\t male               & group C            & associate's degree & standard           & none               &  78                & 73                 & 64                \\\\\n",
       "\t male               & group D            & high school        & standard           & completed          &  46                & 53                 & 48                \\\\\n",
       "\t female             & group C            & some college       & standard           & completed          &  64                & 69                 & 77                \\\\\n",
       "\t female             & group A            & some college       & standard           & none               &  70                & 84                 & 84                \\\\\n",
       "\\end{tabular}\n"
      ],
      "text/markdown": [
       "\n",
       "| gender | race.ethnicity | parental.level.of.education | lunch | test.preparation.course | math.score | reading.score | writing.score |\n",
       "|---|---|---|---|---|---|---|---|\n",
       "| male               | group E            | some college       | standard           | completed          | 100                | 100                | 98                 |\n",
       "| female             | group C            | high school        | standard           | none               |  44                |  54                | 56                 |\n",
       "| female             | group B            | some college       | free/reduced       | none               |  54                |  64                | 65                 |\n",
       "| male               | group C            | high school        | standard           | none               |  65                |  53                | 55                 |\n",
       "| male               | group D            | high school        | standard           | none               |  64                |  62                | 56                 |\n",
       "| female             | group D            | some college       | free/reduced       | completed          |  28                |  53                | 53                 |\n",
       "| male               | group C            | master's degree    | free/reduced       | none               |  94                |  84                | 82                 |\n",
       "| female             | group B            | some high school   | standard           | completed          |  54                |  57                | 64                 |\n",
       "| male               | group C            | high school        | standard           | completed          |  60                |  57                | 55                 |\n",
       "| male               | group A            | some college       | standard           | none               |  62                |  60                | 53                 |\n",
       "| female             | group A            | bachelor's degree  | standard           | none               |  77                |  93                | 83                 |\n",
       "| female             | group C            | some college       | free/reduced       | completed          |  64                |  68                | 67                 |\n",
       "| female             | group E            | some high school   | standard           | completed          |  67                |  68                | 68                 |\n",
       "| male               | group D            | some college       | free/reduced       | none               |  74                |  76                | 71                 |\n",
       "| female             | group D            | high school        | free/reduced       | completed          |  73                |  72                | 74                 |\n",
       "| female             | group D            | some college       | standard           | completed          |  76                |  96                | 94                 |\n",
       "| male               | group C            | some college       | standard           | completed          |  69                |  68                | 72                 |\n",
       "| male               | group C            | master's degree    | free/reduced       | completed          |  70                |  65                | 62                 |\n",
       "| female             | group D            | some college       | standard           | none               |  76                |  78                | 79                 |\n",
       "| male               | group A            | associate's degree | standard           | none               |  97                |  94                | 87                 |\n",
       "| male               | group D            | associate's degree | standard           | completed          |  77                |  81                | 81                 |\n",
       "| female             | group C            | some college       | standard           | none               |  76                |  88                | 85                 |\n",
       "| female             | group C            | some high school   | free/reduced       | completed          |  64                |  75                | 80                 |\n",
       "| male               | group C            | bachelor's degree  | free/reduced       | none               |  71                |  78                | 72                 |\n",
       "| female             | group D            | some college       | free/reduced       | completed          |  76                |  84                | 89                 |\n",
       "| female             | group C            | high school        | standard           | none               |  72                |  81                | 74                 |\n",
       "| male               | group C            | some college       | standard           | completed          |  73                |  68                | 70                 |\n",
       "| female             | group B            | high school        | free/reduced       | none               |  41                |  54                | 49                 |\n",
       "| male               | group C            | master's degree    | standard           | none               |  79                |  64                | 65                 |\n",
       "| male               | group B            | some college       | standard           | completed          |  93                |  80                | 84                 |\n",
       "| ... | ... | ... | ... | ... | ... | ... | ... |\n",
       "| female             | group C            | some college       | free/reduced       | none               |  44                | 60                 | 51                 |\n",
       "| male               | group D            | master's degree    | standard           | none               | 100                | 96                 | 89                 |\n",
       "| male               | group C            | high school        | standard           | none               |  70                | 67                 | 65                 |\n",
       "| female             | group D            | some college       | standard           | none               |  71                | 71                 | 68                 |\n",
       "| female             | group D            | high school        | free/reduced       | none               |  80                | 82                 | 82                 |\n",
       "| male               | group D            | high school        | free/reduced       | none               |  37                | 43                 | 37                 |\n",
       "| male               | group B            | some college       | standard           | completed          |  57                | 58                 | 58                 |\n",
       "| male               | group C            | associate's degree | free/reduced       | completed          |  47                | 51                 | 49                 |\n",
       "| male               | group B            | associate's degree | standard           | none               |  85                | 77                 | 74                 |\n",
       "| male               | group D            | some college       | free/reduced       | none               |  43                | 55                 | 49                 |\n",
       "| female             | group C            | some college       | standard           | none               |  37                | 53                 | 55                 |\n",
       "| female             | group C            | bachelor's degree  | free/reduced       | none               |  33                | 44                 | 45                 |\n",
       "| female             | group C            | bachelor's degree  | standard           | none               |  68                | 75                 | 78                 |\n",
       "| female             | group C            | some high school   | standard           | none               |  45                | 66                 | 57                 |\n",
       "| male               | group D            | high school        | standard           | none               |  75                | 61                 | 57                 |\n",
       "| male               | group C            | master's degree    | free/reduced       | none               |  64                | 52                 | 62                 |\n",
       "| male               | group B            | master's degree    | standard           | completed          |  81                | 81                 | 82                 |\n",
       "| male               | group D            | associate's degree | free/reduced       | none               |  68                | 69                 | 68                 |\n",
       "| male               | group C            | some high school   | standard           | completed          |  90                | 88                 | 83                 |\n",
       "| male               | group D            | bachelor's degree  | standard           | none               |  65                | 60                 | 59                 |\n",
       "| male               | group B            | some college       | standard           | completed          |  75                | 74                 | 75                 |\n",
       "| female             | group C            | associate's degree | free/reduced       | none               |  82                | 89                 | 87                 |\n",
       "| male               | group B            | some high school   | free/reduced       | completed          |  67                | 65                 | 61                 |\n",
       "| male               | group D            | high school        | standard           | none               |  45                | 33                 | 34                 |\n",
       "| female             | group C            | some college       | free/reduced       | none               |  28                | 35                 | 37                 |\n",
       "| female             | group C            | master's degree    | free/reduced       | none               |  57                | 74                 | 75                 |\n",
       "| male               | group C            | associate's degree | standard           | none               |  78                | 73                 | 64                 |\n",
       "| male               | group D            | high school        | standard           | completed          |  46                | 53                 | 48                 |\n",
       "| female             | group C            | some college       | standard           | completed          |  64                | 69                 | 77                 |\n",
       "| female             | group A            | some college       | standard           | none               |  70                | 84                 | 84                 |\n",
       "\n"
      ],
      "text/plain": [
       "    gender race.ethnicity parental.level.of.education lunch       \n",
       "1   male   group E        some college                standard    \n",
       "2   female group C        high school                 standard    \n",
       "3   female group B        some college                free/reduced\n",
       "4   male   group C        high school                 standard    \n",
       "5   male   group D        high school                 standard    \n",
       "6   female group D        some college                free/reduced\n",
       "7   male   group C        master's degree             free/reduced\n",
       "8   female group B        some high school            standard    \n",
       "9   male   group C        high school                 standard    \n",
       "10  male   group A        some college                standard    \n",
       "11  female group A        bachelor's degree           standard    \n",
       "12  female group C        some college                free/reduced\n",
       "13  female group E        some high school            standard    \n",
       "14  male   group D        some college                free/reduced\n",
       "15  female group D        high school                 free/reduced\n",
       "16  female group D        some college                standard    \n",
       "17  male   group C        some college                standard    \n",
       "18  male   group C        master's degree             free/reduced\n",
       "19  female group D        some college                standard    \n",
       "20  male   group A        associate's degree          standard    \n",
       "21  male   group D        associate's degree          standard    \n",
       "22  female group C        some college                standard    \n",
       "23  female group C        some high school            free/reduced\n",
       "24  male   group C        bachelor's degree           free/reduced\n",
       "25  female group D        some college                free/reduced\n",
       "26  female group C        high school                 standard    \n",
       "27  male   group C        some college                standard    \n",
       "28  female group B        high school                 free/reduced\n",
       "29  male   group C        master's degree             standard    \n",
       "30  male   group B        some college                standard    \n",
       "... ...    ...            ...                         ...         \n",
       "71  female group C        some college                free/reduced\n",
       "72  male   group D        master's degree             standard    \n",
       "73  male   group C        high school                 standard    \n",
       "74  female group D        some college                standard    \n",
       "75  female group D        high school                 free/reduced\n",
       "76  male   group D        high school                 free/reduced\n",
       "77  male   group B        some college                standard    \n",
       "78  male   group C        associate's degree          free/reduced\n",
       "79  male   group B        associate's degree          standard    \n",
       "80  male   group D        some college                free/reduced\n",
       "81  female group C        some college                standard    \n",
       "82  female group C        bachelor's degree           free/reduced\n",
       "83  female group C        bachelor's degree           standard    \n",
       "84  female group C        some high school            standard    \n",
       "85  male   group D        high school                 standard    \n",
       "86  male   group C        master's degree             free/reduced\n",
       "87  male   group B        master's degree             standard    \n",
       "88  male   group D        associate's degree          free/reduced\n",
       "89  male   group C        some high school            standard    \n",
       "90  male   group D        bachelor's degree           standard    \n",
       "91  male   group B        some college                standard    \n",
       "92  female group C        associate's degree          free/reduced\n",
       "93  male   group B        some high school            free/reduced\n",
       "94  male   group D        high school                 standard    \n",
       "95  female group C        some college                free/reduced\n",
       "96  female group C        master's degree             free/reduced\n",
       "97  male   group C        associate's degree          standard    \n",
       "98  male   group D        high school                 standard    \n",
       "99  female group C        some college                standard    \n",
       "100 female group A        some college                standard    \n",
       "    test.preparation.course math.score reading.score writing.score\n",
       "1   completed               100        100           98           \n",
       "2   none                     44         54           56           \n",
       "3   none                     54         64           65           \n",
       "4   none                     65         53           55           \n",
       "5   none                     64         62           56           \n",
       "6   completed                28         53           53           \n",
       "7   none                     94         84           82           \n",
       "8   completed                54         57           64           \n",
       "9   completed                60         57           55           \n",
       "10  none                     62         60           53           \n",
       "11  none                     77         93           83           \n",
       "12  completed                64         68           67           \n",
       "13  completed                67         68           68           \n",
       "14  none                     74         76           71           \n",
       "15  completed                73         72           74           \n",
       "16  completed                76         96           94           \n",
       "17  completed                69         68           72           \n",
       "18  completed                70         65           62           \n",
       "19  none                     76         78           79           \n",
       "20  none                     97         94           87           \n",
       "21  completed                77         81           81           \n",
       "22  none                     76         88           85           \n",
       "23  completed                64         75           80           \n",
       "24  none                     71         78           72           \n",
       "25  completed                76         84           89           \n",
       "26  none                     72         81           74           \n",
       "27  completed                73         68           70           \n",
       "28  none                     41         54           49           \n",
       "29  none                     79         64           65           \n",
       "30  completed                93         80           84           \n",
       "... ...                     ...        ...           ...          \n",
       "71  none                     44        60            51           \n",
       "72  none                    100        96            89           \n",
       "73  none                     70        67            65           \n",
       "74  none                     71        71            68           \n",
       "75  none                     80        82            82           \n",
       "76  none                     37        43            37           \n",
       "77  completed                57        58            58           \n",
       "78  completed                47        51            49           \n",
       "79  none                     85        77            74           \n",
       "80  none                     43        55            49           \n",
       "81  none                     37        53            55           \n",
       "82  none                     33        44            45           \n",
       "83  none                     68        75            78           \n",
       "84  none                     45        66            57           \n",
       "85  none                     75        61            57           \n",
       "86  none                     64        52            62           \n",
       "87  completed                81        81            82           \n",
       "88  none                     68        69            68           \n",
       "89  completed                90        88            83           \n",
       "90  none                     65        60            59           \n",
       "91  completed                75        74            75           \n",
       "92  none                     82        89            87           \n",
       "93  completed                67        65            61           \n",
       "94  none                     45        33            34           \n",
       "95  none                     28        35            37           \n",
       "96  none                     57        74            75           \n",
       "97  none                     78        73            64           \n",
       "98  completed                46        53            48           \n",
       "99  completed                64        69            77           \n",
       "100 none                     70        84            84           "
      ]
     },
     "metadata": {},
     "output_type": "display_data"
    }
   ],
   "source": [
    "exam"
   ]
  },
  {
   "cell_type": "markdown",
   "metadata": {},
   "source": [
    "# Check whether Gender matters in the outcome of Exam"
   ]
  },
  {
   "cell_type": "markdown",
   "metadata": {},
   "source": [
    "## Math Exam"
   ]
  },
  {
   "cell_type": "code",
   "execution_count": 11,
   "metadata": {},
   "outputs": [
    {
     "name": "stdout",
     "output_type": "stream",
     "text": [
      "[1] \"Shows the summary of the math score based on gender\"\n"
     ]
    },
    {
     "data": {
      "text/plain": [
       "exam$gender: female\n",
       "   Min. 1st Qu.  Median    Mean 3rd Qu.    Max. \n",
       "  28.00   45.75   59.50   59.15   72.25   86.00 \n",
       "------------------------------------------------------------ \n",
       "exam$gender: male\n",
       "   Min. 1st Qu.  Median    Mean 3rd Qu.    Max. \n",
       "  37.00   59.75   69.00   69.17   78.25  100.00 "
      ]
     },
     "metadata": {},
     "output_type": "display_data"
    },
    {
     "name": "stdout",
     "output_type": "stream",
     "text": [
      "[1] \"Here male is shown to be better at math than female\"\n"
     ]
    }
   ],
   "source": [
    "# Summary\n",
    "print('Shows the summary of the math score based on gender')\n",
    "by(exam$math.score, exam$gender, summary)\n",
    "print('Here male is shown to be better at math than female')"
   ]
  },
  {
   "cell_type": "code",
   "execution_count": 27,
   "metadata": {},
   "outputs": [],
   "source": [
    "draw_hist_gender <- function(dataset, x_axis, title) {\n",
    "    ggplot(aes(x = x_axis, color = gender), data = dataset) + \n",
    "    geom_histogram(binwidth = 10, fill=\"white\") +\n",
    "    ggtitle(title) +\n",
    "    facet_wrap(~gender)\n",
    "}"
   ]
  },
  {
   "cell_type": "code",
   "execution_count": 28,
   "metadata": {},
   "outputs": [
    {
     "data": {
      "image/png": "[encoded data removed]",
      "text/plain": [
       "plot without title"
      ]
     },
     "metadata": {},
     "output_type": "display_data"
    }
   ],
   "source": [
    "draw_hist_gender(exam, exam$math.score, 'Math Score')"
   ]
  },
  {
   "cell_type": "markdown",
   "metadata": {},
   "source": [
    "# Men are better at math"
   ]
  },
  {
   "cell_type": "markdown",
   "metadata": {},
   "source": [
    "## Reading Exam"
   ]
  },
  {
   "cell_type": "code",
   "execution_count": 56,
   "metadata": {},
   "outputs": [
    {
     "name": "stdout",
     "output_type": "stream",
     "text": [
      "[1] \"Shows the summary of the reading score based on gender\"\n"
     ]
    },
    {
     "data": {
      "text/plain": [
       "exam$gender: female\n",
       "   Min. 1st Qu.  Median    Mean 3rd Qu.    Max. \n",
       "  35.00   56.75   69.50   68.42   79.25   96.00 \n",
       "------------------------------------------------------------ \n",
       "exam$gender: male\n",
       "   Min. 1st Qu.  Median    Mean 3rd Qu.    Max. \n",
       "  33.00   55.00   64.50   65.44   76.25  100.00 "
      ]
     },
     "metadata": {},
     "output_type": "display_data"
    },
    {
     "name": "stdout",
     "output_type": "stream",
     "text": [
      "[1] \"Here female is shown to be better at reading than male, except there is one male who scores 100.0\"\n"
     ]
    }
   ],
   "source": [
    "# Summary\n",
    "print('Shows the summary of the reading score based on gender')\n",
    "by(exam$reading.score, exam$gender, summary)\n",
    "print('Here female is shown to be better at reading than male, except there is one male who scores 100.0')"
   ]
  },
  {
   "cell_type": "code",
   "execution_count": 30,
   "metadata": {},
   "outputs": [
    {
     "data": {
      "image/png": "[encoded data removed]",
      "text/plain": [
       "plot without title"
      ]
     },
     "metadata": {},
     "output_type": "display_data"
    }
   ],
   "source": [
    "draw_hist_gender(exam, exam$reading.score, 'Reading Score')"
   ]
  },
  {
   "cell_type": "code",
   "execution_count": 75,
   "metadata": {},
   "outputs": [
    {
     "data": {
      "text/html": [
       "<table>\n",
       "<thead><tr><th scope=col>gender</th><th scope=col>grp.mean</th></tr></thead>\n",
       "<tbody>\n",
       "\t<tr><td>female  </td><td>68.42308</td></tr>\n",
       "\t<tr><td>male    </td><td>65.43750</td></tr>\n",
       "</tbody>\n",
       "</table>\n"
      ],
      "text/latex": [
       "\\begin{tabular}{r|ll}\n",
       " gender & grp.mean\\\\\n",
       "\\hline\n",
       "\t female   & 68.42308\\\\\n",
       "\t male     & 65.43750\\\\\n",
       "\\end{tabular}\n"
      ],
      "text/markdown": [
       "\n",
       "| gender | grp.mean |\n",
       "|---|---|\n",
       "| female   | 68.42308 |\n",
       "| male     | 65.43750 |\n",
       "\n"
      ],
      "text/plain": [
       "  gender grp.mean\n",
       "1 female 68.42308\n",
       "2 male   65.43750"
      ]
     },
     "metadata": {},
     "output_type": "display_data"
    },
    {
     "data": {
      "image/png": "[encoded data removed]",
      "text/plain": [
       "plot without title"
      ]
     },
     "metadata": {},
     "output_type": "display_data"
    }
   ],
   "source": [
    "library(plyr)\n",
    "\n",
    "mu <- ddply(exam, \"gender\", summarise, grp.mean=mean(reading.score))\n",
    "head(mu)\n",
    "\n",
    "ggplot(exam, aes(x=exam$reading.score, fill=exam$gender)) +\n",
    "  geom_histogram(binwidth = 10, color = 'white', size = 2) +\n",
    "  geom_vline(data=mu, aes(xintercept=grp.mean, color=gender),\n",
    "             linetype=\"dashed\", size = 1) +\n",
    "  scale_color_manual(values=c(\"#c74234\", \"#56B4E9\"))+\n",
    "  scale_fill_manual(values=c(\"#c74234\", \"#56B4E9\"))"
   ]
  }
 ],
 "metadata": {
  "kernelspec": {
   "display_name": "R",
   "language": "R",
   "name": "ir"
  },
  "language_info": {
   "codemirror_mode": "r",
   "file_extension": ".r",
   "mimetype": "text/x-r-source",
   "name": "R",
   "pygments_lexer": "r",
   "version": "3.6.1"
  }
 },
 "nbformat": 4,
 "nbformat_minor": 4
}
